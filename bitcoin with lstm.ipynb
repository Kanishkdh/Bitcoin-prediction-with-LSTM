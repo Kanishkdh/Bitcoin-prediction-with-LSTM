{
 "cells": [
  {
   "cell_type": "code",
   "execution_count": 1,
   "id": "b064a043",
   "metadata": {},
   "outputs": [],
   "source": [
    "import torch\n",
    "import torch.nn as nn\n",
    "\n",
    "import numpy as np\n",
    "import pandas as pd\n",
    "import matplotlib.pyplot as plt\n",
    "%matplotlib inline\n"
   ]
  },
  {
   "cell_type": "code",
   "execution_count": 2,
   "id": "2aa8355a",
   "metadata": {},
   "outputs": [],
   "source": [
    "df_raw=pd.read_csv(r'/Users/kd/Desktop/BTC-USD.csv',parse_dates=['Date'],index_col=['Date'])"
   ]
  },
  {
   "cell_type": "code",
   "execution_count": 3,
   "id": "82a7249a",
   "metadata": {},
   "outputs": [],
   "source": [
    "df=df_raw[['Close']]"
   ]
  },
  {
   "cell_type": "code",
   "execution_count": 4,
   "id": "93f04135",
   "metadata": {},
   "outputs": [
    {
     "data": {
      "text/plain": [
       "1049"
      ]
     },
     "execution_count": 4,
     "metadata": {},
     "output_type": "execute_result"
    }
   ],
   "source": [
    "len(df)"
   ]
  },
  {
   "cell_type": "code",
   "execution_count": 5,
   "id": "334c0ab7",
   "metadata": {},
   "outputs": [
    {
     "name": "stderr",
     "output_type": "stream",
     "text": [
      "/opt/anaconda3/lib/python3.9/site-packages/pandas/util/_decorators.py:311: SettingWithCopyWarning: \n",
      "A value is trying to be set on a copy of a slice from a DataFrame\n",
      "\n",
      "See the caveats in the documentation: https://pandas.pydata.org/pandas-docs/stable/user_guide/indexing.html#returning-a-view-versus-a-copy\n",
      "  return func(*args, **kwargs)\n"
     ]
    }
   ],
   "source": [
    "#drop null values\n",
    "df.dropna(inplace=True)"
   ]
  },
  {
   "cell_type": "code",
   "execution_count": 6,
   "id": "2f2e3679",
   "metadata": {},
   "outputs": [
    {
     "data": {
      "text/plain": [
       "1049"
      ]
     },
     "execution_count": 6,
     "metadata": {},
     "output_type": "execute_result"
    }
   ],
   "source": [
    "len(df)"
   ]
  },
  {
   "cell_type": "code",
   "execution_count": 7,
   "id": "0d0d9170",
   "metadata": {},
   "outputs": [
    {
     "data": {
      "text/html": [
       "<div>\n",
       "<style scoped>\n",
       "    .dataframe tbody tr th:only-of-type {\n",
       "        vertical-align: middle;\n",
       "    }\n",
       "\n",
       "    .dataframe tbody tr th {\n",
       "        vertical-align: top;\n",
       "    }\n",
       "\n",
       "    .dataframe thead th {\n",
       "        text-align: right;\n",
       "    }\n",
       "</style>\n",
       "<table border=\"1\" class=\"dataframe\">\n",
       "  <thead>\n",
       "    <tr style=\"text-align: right;\">\n",
       "      <th></th>\n",
       "      <th>Close</th>\n",
       "    </tr>\n",
       "    <tr>\n",
       "      <th>Date</th>\n",
       "      <th></th>\n",
       "    </tr>\n",
       "  </thead>\n",
       "  <tbody>\n",
       "    <tr>\n",
       "      <th>2020-01-01</th>\n",
       "      <td>7200.174316</td>\n",
       "    </tr>\n",
       "    <tr>\n",
       "      <th>2020-01-02</th>\n",
       "      <td>6985.470215</td>\n",
       "    </tr>\n",
       "    <tr>\n",
       "      <th>2020-01-03</th>\n",
       "      <td>7344.884277</td>\n",
       "    </tr>\n",
       "    <tr>\n",
       "      <th>2020-01-04</th>\n",
       "      <td>7410.656738</td>\n",
       "    </tr>\n",
       "    <tr>\n",
       "      <th>2020-01-05</th>\n",
       "      <td>7411.317383</td>\n",
       "    </tr>\n",
       "  </tbody>\n",
       "</table>\n",
       "</div>"
      ],
      "text/plain": [
       "                  Close\n",
       "Date                   \n",
       "2020-01-01  7200.174316\n",
       "2020-01-02  6985.470215\n",
       "2020-01-03  7344.884277\n",
       "2020-01-04  7410.656738\n",
       "2020-01-05  7411.317383"
      ]
     },
     "execution_count": 7,
     "metadata": {},
     "output_type": "execute_result"
    }
   ],
   "source": [
    "df.head()"
   ]
  },
  {
   "cell_type": "code",
   "execution_count": 8,
   "id": "1e047b45",
   "metadata": {},
   "outputs": [
    {
     "data": {
      "text/html": [
       "<div>\n",
       "<style scoped>\n",
       "    .dataframe tbody tr th:only-of-type {\n",
       "        vertical-align: middle;\n",
       "    }\n",
       "\n",
       "    .dataframe tbody tr th {\n",
       "        vertical-align: top;\n",
       "    }\n",
       "\n",
       "    .dataframe thead th {\n",
       "        text-align: right;\n",
       "    }\n",
       "</style>\n",
       "<table border=\"1\" class=\"dataframe\">\n",
       "  <thead>\n",
       "    <tr style=\"text-align: right;\">\n",
       "      <th></th>\n",
       "      <th>Close</th>\n",
       "    </tr>\n",
       "    <tr>\n",
       "      <th>Date</th>\n",
       "      <th></th>\n",
       "    </tr>\n",
       "  </thead>\n",
       "  <tbody>\n",
       "    <tr>\n",
       "      <th>2022-11-10</th>\n",
       "      <td>17586.771484</td>\n",
       "    </tr>\n",
       "    <tr>\n",
       "      <th>2022-11-11</th>\n",
       "      <td>17034.292969</td>\n",
       "    </tr>\n",
       "    <tr>\n",
       "      <th>2022-11-12</th>\n",
       "      <td>16799.185547</td>\n",
       "    </tr>\n",
       "    <tr>\n",
       "      <th>2022-11-13</th>\n",
       "      <td>16353.365234</td>\n",
       "    </tr>\n",
       "    <tr>\n",
       "      <th>2022-11-14</th>\n",
       "      <td>16777.537109</td>\n",
       "    </tr>\n",
       "  </tbody>\n",
       "</table>\n",
       "</div>"
      ],
      "text/plain": [
       "                   Close\n",
       "Date                    \n",
       "2022-11-10  17586.771484\n",
       "2022-11-11  17034.292969\n",
       "2022-11-12  16799.185547\n",
       "2022-11-13  16353.365234\n",
       "2022-11-14  16777.537109"
      ]
     },
     "execution_count": 8,
     "metadata": {},
     "output_type": "execute_result"
    }
   ],
   "source": [
    "df.tail()"
   ]
  },
  {
   "cell_type": "markdown",
   "id": "bfd2f712",
   "metadata": {},
   "source": [
    "## Plotting time series data\n",
    "We can add titles, axis labels, and other features to the plot.<br>\n",
    "We're going to tighten the x-axis to fit the width of the actual data with <tt>plt.autoscale(axis='x',tight=True)</tt>.<br>\n"
   ]
  },
  {
   "cell_type": "code",
   "execution_count": 9,
   "id": "6496d84d",
   "metadata": {},
   "outputs": [
    {
     "data": {
      "image/png": "[encoded data removed]",
      "text/plain": [
       "<Figure size 864x288 with 1 Axes>"
      ]
     },
     "metadata": {
      "needs_background": "light"
     },
     "output_type": "display_data"
    }
   ],
   "source": [
    "plt.figure(figsize=(12,4))\n",
    "plt.title('Bitcoin share prices')\n",
    "plt.ylabel('In USD')\n",
    "plt.grid(True)\n",
    "plt.autoscale(axis='x',tight=True)\n",
    "plt.plot(df['Close'])\n",
    "plt.show()"
   ]
  },
  {
   "cell_type": "markdown",
   "id": "ecfe93a1",
   "metadata": {},
   "source": [
    "## Prepare the data\n",
    "In the next steps we'll divide the data into train/test sets, then normalize the training values so that they fall between -1 and 1 (to improve training). We'll train the model, then predict into a period that matches the test set. Finally, we'll forecast into an unknown future."
   ]
  },
  {
   "cell_type": "code",
   "execution_count": 10,
   "id": "b698cda4",
   "metadata": {},
   "outputs": [],
   "source": [
    "# Extract values from the source .csv file\n",
    "y = df['Close'].values.astype(float)\n",
    "\n",
    "# Define a test size\n",
    "test_size = 30\n",
    "\n",
    "# Create train and test sets\n",
    "train_set = y[:-test_size]\n",
    "test_set = y[-test_size:]"
   ]
  },
  {
   "cell_type": "code",
   "execution_count": 11,
   "id": "8832062f",
   "metadata": {},
   "outputs": [
    {
     "data": {
      "text/plain": [
       "array([19268.09375 , 19550.757813, 19334.416016, 19139.535156,\n",
       "       19053.740234, 19172.46875 , 19208.189453, 19567.007813,\n",
       "       19345.572266, 20095.857422, 20770.441406, 20285.835938,\n",
       "       20595.351563, 20818.476563, 20635.603516, 20495.773438,\n",
       "       20485.273438, 20159.503906, 20209.988281, 21147.230469,\n",
       "       21282.691406, 20926.486328, 20602.816406, 18541.271484,\n",
       "       15880.780273, 17586.771484, 17034.292969, 16799.185547,\n",
       "       16353.365234, 16777.537109])"
      ]
     },
     "execution_count": 11,
     "metadata": {},
     "output_type": "execute_result"
    }
   ],
   "source": [
    "test_set"
   ]
  },
  {
   "cell_type": "markdown",
   "id": "97205c5c",
   "metadata": {},
   "source": [
    "## Normalize the data\n",
    "The formula for normalizing data around zero is:<br>\n",
    "### $X_{norm} = \\frac{X - \\mu} {\\sigma}$\n",
    "where $\\mu$ is the population mean, and $\\sigma$ is the population standard deviation.<br>\n",
    "Recall that back in the CNN section we transformed image files using <a href='https://pytorch.org/docs/stable/torchvision/transforms.html#torchvision.transforms.Normalize'><tt><strong>torchvision.transforms.Normalize(<em>mean, std</em>)</strong></tt></a>, both because it was built into DataLoader, and because our pretrained models expected specific normalization values.<br>\n",
    "\n",
    "Ultimately we want to perform <a href='https://en.wikipedia.org/wiki/Feature_scaling'>min/max feature scaling</a> so that our values fall between -1 and 1, as this makes hyperparameters converge faster.<br>The formula for this would be:<br>\n",
    "### $X^{\\prime} = a + \\frac{(X - X_{min}) (b - a)} {X_{max} - X_{min}}$\n",
    "where $a={-1}$ and $b=1$<br>\n",
    "\n",
    "We can use scikit-learn to do this, with <a href='https://scikit-learn.org/stable/modules/generated/sklearn.preprocessing.MinMaxScaler.html'><tt><strong>sklearn.preprocessing.MinMaxScaler()</strong></tt></a>\n",
    "\n",
    "NOTE: We only want to normalize the training set to avoid data leakage. If we include the test set then the higher average values of the test set could become part of the signal in the training set. There's a good article on data leakage <a href='test_set = input_data(test_norm,window_size)'>here</a>.\n",
    "\n",
    "After using transformed data to train the model and generate predictions, we'll inverse_transform the predicted values so that we can compare them to the actual test data."
   ]
  },
  {
   "cell_type": "code",
   "execution_count": 33,
   "id": "55244aa8",
   "metadata": {},
   "outputs": [],
   "source": [
    "from sklearn.preprocessing import MinMaxScaler\n",
    "\n",
    "# Instantiate a scaler with a feature range from -1 to 1\n",
    "scaler = MinMaxScaler(feature_range=(-1, 1))"
   ]
  },
  {
   "cell_type": "code",
   "execution_count": 34,
   "id": "8b07c089",
   "metadata": {},
   "outputs": [],
   "source": [
    "# Normalize the training set\n",
    "train_norm = scaler.fit_transform(train_set.reshape(-1, 1))"
   ]
  },
  {
   "cell_type": "code",
   "execution_count": 35,
   "id": "7c3ad77f",
   "metadata": {},
   "outputs": [
    {
     "data": {
      "text/plain": [
       "-0.9999999999999999"
      ]
     },
     "execution_count": 35,
     "metadata": {},
     "output_type": "execute_result"
    }
   ],
   "source": [
    "train_norm.min()"
   ]
  },
  {
   "cell_type": "code",
   "execution_count": 36,
   "id": "8c72946d",
   "metadata": {},
   "outputs": [
    {
     "data": {
      "text/plain": [
       "1.0"
      ]
     },
     "execution_count": 36,
     "metadata": {},
     "output_type": "execute_result"
    }
   ],
   "source": [
    "train_norm.max()"
   ]
  },
  {
   "cell_type": "code",
   "execution_count": 37,
   "id": "fe750f65",
   "metadata": {},
   "outputs": [
    {
     "data": {
      "text/plain": [
       "-0.20862027171036934"
      ]
     },
     "execution_count": 37,
     "metadata": {},
     "output_type": "execute_result"
    }
   ],
   "source": [
    "train_norm.mean()"
   ]
  },
  {
   "cell_type": "code",
   "execution_count": 38,
   "id": "54dd9e4c",
   "metadata": {},
   "outputs": [
    {
     "data": {
      "text/plain": [
       "numpy.ndarray"
      ]
     },
     "execution_count": 38,
     "metadata": {},
     "output_type": "execute_result"
    }
   ],
   "source": [
    "type(train_norm)"
   ]
  },
  {
   "cell_type": "markdown",
   "id": "6a1ee7b7",
   "metadata": {},
   "source": [
    "## Prepare data for LSTM\n",
    "Here we'll create our list of (seq/label) tuples from the training set. Recall that an LSTM consumes a window of samples toward the first prediction, so the size of our training set will become ((325 - test_size) - window_size)."
   ]
  },
  {
   "cell_type": "code",
   "execution_count": 39,
   "id": "c748d125",
   "metadata": {},
   "outputs": [
    {
     "data": {
      "text/plain": [
       "1012"
      ]
     },
     "execution_count": 39,
     "metadata": {},
     "output_type": "execute_result"
    }
   ],
   "source": [
    "# Convert train_norm from an array to a tensor\n",
    "train_norm = torch.FloatTensor(train_norm).view(-1)\n",
    "\n",
    "# Define a window size\n",
    "window_size = 7\n",
    "\n",
    "# Define function to create seq/label tuples\n",
    "def input_data(seq,ws):  # ws is the window size\n",
    "    out = []\n",
    "    L = len(seq)\n",
    "    for i in range(L-ws):\n",
    "        window = seq[i:i+ws]\n",
    "        label = seq[i+ws:i+ws+1]\n",
    "        out.append((window,label))\n",
    "    return out\n",
    "\n",
    "# Apply the input_data function to train_norm\n",
    "train_data = input_data(train_norm,window_size)\n",
    "len(train_data)  # this should equal 1049-30-30"
   ]
  },
  {
   "cell_type": "code",
   "execution_count": 40,
   "id": "4eb59506",
   "metadata": {},
   "outputs": [
    {
     "data": {
      "text/plain": [
       "(tensor([-0.9288, -0.9356, -0.9241, -0.9220, -0.9220, -0.9106, -0.8980]),\n",
       " tensor([-0.9007]))"
      ]
     },
     "execution_count": 40,
     "metadata": {},
     "output_type": "execute_result"
    }
   ],
   "source": [
    "# Display the first seq/label tuple in the train data\n",
    "train_data[0]"
   ]
  },
  {
   "cell_type": "markdown",
   "id": "bec354ef",
   "metadata": {},
   "source": [
    "## Define the model\n",
    "This time we'll use an LSTM layer of size (1,100)."
   ]
  },
  {
   "cell_type": "code",
   "execution_count": 64,
   "id": "332fffc3",
   "metadata": {},
   "outputs": [],
   "source": [
    "class LSTMnetwork(nn.Module):\n",
    "    def __init__(self,input_size=1,hidden_size=150,output_size=1):\n",
    "        super().__init__()\n",
    "        self.hidden_size = hidden_size\n",
    "        \n",
    "        # Add an LSTM layer:\n",
    "        self.lstm = nn.LSTM(input_size,hidden_size,num_layers=2)\n",
    "        \n",
    "        # Add a fully-connected layer:\n",
    "        self.linear = nn.Linear(hidden_size,output_size)\n",
    "        \n",
    "        # Initialize h0 and c0:\n",
    "        self.hidden = (torch.zeros(2,1,self.hidden_size),\n",
    "                       torch.zeros(2,1,self.hidden_size))\n",
    "\n",
    "    def forward(self,seq):\n",
    "        lstm_out, self.hidden = self.lstm(\n",
    "            seq.view(len(seq),1,-1), self.hidden)\n",
    "\n",
    "        pred = self.linear(lstm_out.view(len(seq),-1))\n",
    "        return pred[-1]  # we only want the last value"
   ]
  },
  {
   "cell_type": "markdown",
   "id": "c3a9b421",
   "metadata": {},
   "source": [
    "## Instantiate the model, define loss and optimization functions\n"
   ]
  },
  {
   "cell_type": "code",
   "execution_count": 65,
   "id": "2866b00d",
   "metadata": {},
   "outputs": [
    {
     "data": {
      "text/plain": [
       "LSTMnetwork(\n",
       "  (lstm): LSTM(1, 150, num_layers=2)\n",
       "  (linear): Linear(in_features=150, out_features=1, bias=True)\n",
       ")"
      ]
     },
     "execution_count": 65,
     "metadata": {},
     "output_type": "execute_result"
    }
   ],
   "source": [
    "torch.manual_seed(101)\n",
    "model = LSTMnetwork()\n",
    "\n",
    "criterion = nn.MSELoss()\n",
    "optimizer = torch.optim.SGD(model.parameters(), lr=0.001)\n",
    "\n",
    "model"
   ]
  },
  {
   "cell_type": "code",
   "execution_count": 66,
   "id": "e70aacaf",
   "metadata": {},
   "outputs": [
    {
     "name": "stdout",
     "output_type": "stream",
     "text": [
      "   600\n",
      " 90000\n",
      "   600\n",
      "   600\n",
      " 90000\n",
      " 90000\n",
      "   600\n",
      "   600\n",
      "   150\n",
      "     1\n",
      "______\n",
      "273151\n"
     ]
    }
   ],
   "source": [
    "def count_parameters(model):\n",
    "    params = [p.numel() for p in model.parameters() if p.requires_grad]\n",
    "    for item in params:\n",
    "        print(f'{item:>6}')\n",
    "    print(f'______\\n{sum(params):>6}')\n",
    "    \n",
    "count_parameters(model)"
   ]
  },
  {
   "cell_type": "code",
   "execution_count": 67,
   "id": "3f8fa5ab",
   "metadata": {},
   "outputs": [],
   "source": [
    "## Train the model"
   ]
  },
  {
   "cell_type": "code",
   "execution_count": 68,
   "id": "d944d079",
   "metadata": {},
   "outputs": [
    {
     "name": "stdout",
     "output_type": "stream",
     "text": [
      "Epoch:  1 Loss: 0.19761178\n",
      "Epoch:  2 Loss: 0.18634000\n",
      "Epoch:  3 Loss: 0.17737721\n",
      "Epoch:  4 Loss: 0.16527349\n",
      "Epoch:  5 Loss: 0.14805096\n",
      "Epoch:  6 Loss: 0.12373843\n",
      "Epoch:  7 Loss: 0.09185147\n",
      "Epoch:  8 Loss: 0.05680741\n",
      "Epoch:  9 Loss: 0.02809045\n",
      "Epoch: 10 Loss: 0.01146567\n",
      "Epoch: 11 Loss: 0.00423363\n",
      "Epoch: 12 Loss: 0.00154733\n",
      "Epoch: 13 Loss: 0.00059652\n",
      "Epoch: 14 Loss: 0.00025406\n",
      "Epoch: 15 Loss: 0.00012390\n",
      "Epoch: 16 Loss: 0.00007062\n",
      "Epoch: 17 Loss: 0.00004696\n",
      "Epoch: 18 Loss: 0.00003562\n",
      "Epoch: 19 Loss: 0.00002982\n",
      "Epoch: 20 Loss: 0.00002671\n",
      "Epoch: 21 Loss: 0.00002496\n",
      "Epoch: 22 Loss: 0.00002395\n",
      "Epoch: 23 Loss: 0.00002334\n",
      "Epoch: 24 Loss: 0.00002295\n",
      "Epoch: 25 Loss: 0.00002268\n",
      "Epoch: 26 Loss: 0.00002249\n",
      "Epoch: 27 Loss: 0.00002233\n",
      "Epoch: 28 Loss: 0.00002220\n",
      "Epoch: 29 Loss: 0.00002208\n",
      "Epoch: 30 Loss: 0.00002198\n",
      "Epoch: 31 Loss: 0.00002187\n",
      "Epoch: 32 Loss: 0.00002178\n",
      "Epoch: 33 Loss: 0.00002168\n",
      "Epoch: 34 Loss: 0.00002159\n",
      "Epoch: 35 Loss: 0.00002150\n",
      "Epoch: 36 Loss: 0.00002141\n",
      "Epoch: 37 Loss: 0.00002132\n",
      "Epoch: 38 Loss: 0.00002123\n",
      "Epoch: 39 Loss: 0.00002114\n",
      "Epoch: 40 Loss: 0.00002106\n",
      "Epoch: 41 Loss: 0.00002098\n",
      "Epoch: 42 Loss: 0.00002090\n",
      "Epoch: 43 Loss: 0.00002081\n",
      "Epoch: 44 Loss: 0.00002074\n",
      "Epoch: 45 Loss: 0.00002066\n",
      "Epoch: 46 Loss: 0.00002058\n",
      "Epoch: 47 Loss: 0.00002050\n",
      "Epoch: 48 Loss: 0.00002043\n",
      "Epoch: 49 Loss: 0.00002036\n",
      "Epoch: 50 Loss: 0.00002028\n",
      "Epoch: 51 Loss: 0.00002021\n",
      "Epoch: 52 Loss: 0.00002014\n",
      "Epoch: 53 Loss: 0.00002007\n",
      "Epoch: 54 Loss: 0.00002000\n",
      "Epoch: 55 Loss: 0.00001994\n",
      "Epoch: 56 Loss: 0.00001987\n",
      "Epoch: 57 Loss: 0.00001980\n",
      "Epoch: 58 Loss: 0.00001974\n",
      "Epoch: 59 Loss: 0.00001968\n",
      "Epoch: 60 Loss: 0.00001961\n",
      "Epoch: 61 Loss: 0.00001955\n",
      "Epoch: 62 Loss: 0.00001949\n",
      "Epoch: 63 Loss: 0.00001943\n",
      "Epoch: 64 Loss: 0.00001937\n",
      "Epoch: 65 Loss: 0.00001931\n",
      "Epoch: 66 Loss: 0.00001926\n",
      "Epoch: 67 Loss: 0.00001920\n",
      "Epoch: 68 Loss: 0.00001915\n",
      "Epoch: 69 Loss: 0.00001909\n",
      "Epoch: 70 Loss: 0.00001904\n",
      "Epoch: 71 Loss: 0.00001898\n",
      "Epoch: 72 Loss: 0.00001893\n",
      "Epoch: 73 Loss: 0.00001888\n",
      "Epoch: 74 Loss: 0.00001883\n",
      "Epoch: 75 Loss: 0.00001878\n",
      "Epoch: 76 Loss: 0.00001873\n",
      "Epoch: 77 Loss: 0.00001868\n",
      "Epoch: 78 Loss: 0.00001863\n",
      "Epoch: 79 Loss: 0.00001858\n",
      "Epoch: 80 Loss: 0.00001854\n",
      "Epoch: 81 Loss: 0.00001849\n",
      "Epoch: 82 Loss: 0.00001844\n",
      "Epoch: 83 Loss: 0.00001840\n",
      "Epoch: 84 Loss: 0.00001835\n",
      "Epoch: 85 Loss: 0.00001831\n",
      "Epoch: 86 Loss: 0.00001827\n",
      "Epoch: 87 Loss: 0.00001823\n",
      "Epoch: 88 Loss: 0.00001818\n",
      "Epoch: 89 Loss: 0.00001814\n",
      "Epoch: 90 Loss: 0.00001810\n",
      "Epoch: 91 Loss: 0.00001806\n",
      "Epoch: 92 Loss: 0.00001802\n",
      "Epoch: 93 Loss: 0.00001798\n",
      "Epoch: 94 Loss: 0.00001795\n",
      "Epoch: 95 Loss: 0.00001791\n",
      "Epoch: 96 Loss: 0.00001787\n",
      "Epoch: 97 Loss: 0.00001783\n",
      "Epoch: 98 Loss: 0.00001780\n",
      "Epoch: 99 Loss: 0.00001776\n",
      "Epoch: 100 Loss: 0.00001773\n",
      "\n",
      "Duration: 601 seconds\n"
     ]
    }
   ],
   "source": [
    "epochs = 100\n",
    "\n",
    "import time\n",
    "start_time = time.time()\n",
    "\n",
    "for epoch in range(epochs):\n",
    "    \n",
    "    # extract the sequence & label from the training data\n",
    "    for seq, y_train in train_data:\n",
    "        \n",
    "        # reset the parameters and hidden states\n",
    "        optimizer.zero_grad()\n",
    "        model.hidden = (torch.zeros(2,1,model.hidden_size),\n",
    "                        torch.zeros(2,1,model.hidden_size))\n",
    "        \n",
    "        y_pred = model(seq)\n",
    "        \n",
    "        loss = criterion(y_pred, y_train)\n",
    "        loss.backward()\n",
    "        optimizer.step()\n",
    "        \n",
    "    # print training result\n",
    "    print(f'Epoch: {epoch+1:2} Loss: {loss.item():10.8f}')\n",
    "    \n",
    "print(f'\\nDuration: {time.time() - start_time:.0f} seconds')"
   ]
  },
  {
   "cell_type": "markdown",
   "id": "b3e23ca0",
   "metadata": {},
   "source": [
    "## Run predictions and compare to known test set\n"
   ]
  },
  {
   "cell_type": "code",
   "execution_count": 46,
   "id": "74d4c5f6",
   "metadata": {},
   "outputs": [],
   "source": [
    "future = 30\n",
    "\n",
    "# Add the last window of training values to the list of predictions\n",
    "preds = train_norm[-window_size:].tolist()\n",
    "\n",
    "# Set the model to evaluation mode\n",
    "model.eval()\n",
    "\n",
    "for i in range(future):\n",
    "    seq = torch.FloatTensor(preds[-window_size:])\n",
    "    with torch.no_grad():\n",
    "        model.hidden = (torch.zeros(2,1,model.hidden_size),\n",
    "                        torch.zeros(2,1,model.hidden_size))\n",
    "        preds.append(model(seq).item())"
   ]
  },
  {
   "cell_type": "code",
   "execution_count": 47,
   "id": "be8255de",
   "metadata": {},
   "outputs": [
    {
     "data": {
      "text/plain": [
       "[-0.5488561391830444,\n",
       " -0.5500268340110779,\n",
       " -0.5506595373153687,\n",
       " -0.5512256622314453,\n",
       " -0.5520607233047485,\n",
       " -0.553324818611145,\n",
       " -0.5542025566101074,\n",
       " -0.5549201965332031,\n",
       " -0.5557461977005005,\n",
       " -0.5565427541732788,\n",
       " -0.5573426485061646,\n",
       " -0.5581462383270264,\n",
       " -0.5589364171028137,\n",
       " -0.5596897602081299,\n",
       " -0.5604315996170044,\n",
       " -0.5611690878868103,\n",
       " -0.561893880367279,\n",
       " -0.5626071691513062,\n",
       " -0.5633084774017334,\n",
       " -0.5639967918395996,\n",
       " -0.5646727681159973,\n",
       " -0.5653378367424011,\n",
       " -0.5659919381141663,\n",
       " -0.5666347742080688,\n",
       " -0.5672665238380432,\n",
       " -0.5678873658180237,\n",
       " -0.5684974193572998,\n",
       " -0.5690968632698059,\n",
       " -0.5696859359741211,\n",
       " -0.5702648162841797]"
      ]
     },
     "execution_count": 47,
     "metadata": {},
     "output_type": "execute_result"
    }
   ],
   "source": [
    "# Display predicted values\n",
    "preds[window_size:]    # equivalent to preds[-future:]"
   ]
  },
  {
   "cell_type": "code",
   "execution_count": 48,
   "id": "268a2e61",
   "metadata": {},
   "outputs": [
    {
     "data": {
      "text/plain": [
       "array([[19090.69767352],\n",
       "       [19054.05724336],\n",
       "       [19034.25488267],\n",
       "       [19016.53629372],\n",
       "       [18990.40053553],\n",
       "       [18950.83685532],\n",
       "       [18923.36539386],\n",
       "       [18900.90468518],\n",
       "       [18875.05248411],\n",
       "       [18850.12184368],\n",
       "       [18825.08673483],\n",
       "       [18799.93596453],\n",
       "       [18775.20493339],\n",
       "       [18751.6267858 ],\n",
       "       [18728.40868113],\n",
       "       [18705.32675849],\n",
       "       [18682.64218893],\n",
       "       [18660.31766229],\n",
       "       [18638.36810263],\n",
       "       [18616.82522357],\n",
       "       [18595.66850454],\n",
       "       [18574.85317336],\n",
       "       [18554.38109553],\n",
       "       [18534.26159859],\n",
       "       [18514.48908602],\n",
       "       [18495.05796131],\n",
       "       [18475.96449342],\n",
       "       [18457.20308585],\n",
       "       [18438.76627655],\n",
       "       [18420.64846902]])"
      ]
     },
     "execution_count": 48,
     "metadata": {},
     "output_type": "execute_result"
    }
   ],
   "source": [
    "true_predictions = scaler.inverse_transform(np.array(preds[window_size:]).reshape(-1, 1))\n",
    "true_predictions"
   ]
  },
  {
   "cell_type": "code",
   "execution_count": 49,
   "id": "955b0f90",
   "metadata": {},
   "outputs": [
    {
     "data": {
      "text/plain": [
       "array(['2022-10-16', '2022-10-17', '2022-10-18', '2022-10-19',\n",
       "       '2022-10-20', '2022-10-21', '2022-10-22', '2022-10-23',\n",
       "       '2022-10-24', '2022-10-25', '2022-10-26', '2022-10-27',\n",
       "       '2022-10-28', '2022-10-29', '2022-10-30', '2022-10-31',\n",
       "       '2022-11-01', '2022-11-02', '2022-11-03', '2022-11-04',\n",
       "       '2022-11-05', '2022-11-06', '2022-11-07', '2022-11-08',\n",
       "       '2022-11-09', '2022-11-10', '2022-11-11', '2022-11-12',\n",
       "       '2022-11-13', '2022-11-14'], dtype='datetime64[D]')"
      ]
     },
     "execution_count": 49,
     "metadata": {},
     "output_type": "execute_result"
    }
   ],
   "source": [
    "# Remember that the stop date has to be later than the last predicted value.\n",
    "x = np.arange('2022-10-16', '2022-11-15', dtype='datetime64[D]').astype('datetime64[D]')\n",
    "x"
   ]
  },
  {
   "cell_type": "code",
   "execution_count": 50,
   "id": "c93be6da",
   "metadata": {},
   "outputs": [
    {
     "data": {
      "image/png": "[encoded data removed]",
      "text/plain": [
       "<Figure size 864x288 with 1 Axes>"
      ]
     },
     "metadata": {
      "needs_background": "light"
     },
     "output_type": "display_data"
    }
   ],
   "source": [
    "plt.figure(figsize=(12,4))\n",
    "plt.title('Bitcoin share prices')\n",
    "plt.ylabel('In USD')\n",
    "plt.grid(True)\n",
    "plt.autoscale(axis='x',tight=True)\n",
    "plt.plot(df['Close'])\n",
    "plt.plot(x,true_predictions)\n",
    "plt.show()"
   ]
  },
  {
   "cell_type": "code",
   "execution_count": 51,
   "id": "3dd24ffe",
   "metadata": {},
   "outputs": [
    {
     "data": {
      "image/png": "[encoded data removed]",
      "text/plain": [
       "<Figure size 864x288 with 1 Axes>"
      ]
     },
     "metadata": {
      "needs_background": "light"
     },
     "output_type": "display_data"
    }
   ],
   "source": [
    "# Plot the end of the graph\n",
    "fig = plt.figure(figsize=(12,4))\n",
    "plt.title('Bitcoin share prices')\n",
    "plt.ylabel('In USD')\n",
    "plt.grid(True)\n",
    "plt.autoscale(axis='x',tight=True)\n",
    "fig.autofmt_xdate()\n",
    "\n",
    "# Select the end of the graph with slice notation:\n",
    "plt.plot(df['Close']['2022-10-10':])\n",
    "plt.plot(x,true_predictions)\n",
    "plt.show()"
   ]
  },
  {
   "cell_type": "code",
   "execution_count": 52,
   "id": "aec070a1",
   "metadata": {},
   "outputs": [],
   "source": [
    "from sklearn.metrics import mean_squared_error"
   ]
  },
  {
   "cell_type": "code",
   "execution_count": 53,
   "id": "db07615e",
   "metadata": {},
   "outputs": [
    {
     "data": {
      "text/plain": [
       "1571.7160894588947"
      ]
     },
     "execution_count": 53,
     "metadata": {},
     "output_type": "execute_result"
    }
   ],
   "source": [
    "np.sqrt(mean_squared_error(test_set.reshape(len(test_set)), true_predictions.reshape(len(true_predictions))))"
   ]
  },
  {
   "cell_type": "code",
   "execution_count": null,
   "id": "d73de513",
   "metadata": {},
   "outputs": [],
   "source": []
  },
  {
   "cell_type": "code",
   "execution_count": null,
   "id": "ee166b2c",
   "metadata": {},
   "outputs": [],
   "source": []
  }
 ],
 "metadata": {
  "kernelspec": {
   "display_name": "Python 3 (ipykernel)",
   "language": "python",
   "name": "python3"
  },
  "language_info": {
   "codemirror_mode": {
    "name": "ipython",
    "version": 3
   },
   "file_extension": ".py",
   "mimetype": "text/x-python",
   "name": "python",
   "nbconvert_exporter": "python",
   "pygments_lexer": "ipython3",
   "version": "3.9.7"
  }
 },
 "nbformat": 4,
 "nbformat_minor": 5
}
